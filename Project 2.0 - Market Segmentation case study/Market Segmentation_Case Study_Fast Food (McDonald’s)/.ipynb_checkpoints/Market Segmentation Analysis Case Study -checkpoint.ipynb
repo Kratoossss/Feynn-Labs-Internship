{
 "cells": [
  {
   "cell_type": "markdown",
   "id": "b672fda9",
   "metadata": {},
   "source": [
    "# Market Segmentation Case Study (McDonald's)"
   ]
  },
  {
   "cell_type": "markdown",
   "id": "7d14f487",
   "metadata": {},
   "source": [
    "## 1. Import necessary Libraries"
   ]
  },
  {
   "cell_type": "code",
   "execution_count": 3,
   "id": "8fe09af5",
   "metadata": {},
   "outputs": [],
   "source": [
    "import pandas as pd\n",
    "import numpy as np\n",
    "import matplotlib.pyplot as plt\n",
    "import seaborn as sns\n",
    "from sklearn.decomposition import PCA\n",
    "from sklearn.preprocessing import StandardScaler\n",
    "from sklearn.cluster import KMeans\n",
    "from sklearn.utils import resample\n",
    "from sklearn.metrics import adjusted_rand_score\n",
    "from sklearn.mixture import GaussianMixture\n",
    "from scipy.cluster.hierarchy import linkage, dendrogram\n",
    "from sklearn.preprocessing import StandardScaler\n",
    "from statsmodels.graphics.mosaicplot import mosaic\n",
    "from sklearn.preprocessing import LabelEncoder\n",
    "from sklearn.tree import DecisionTreeClassifier, plot_tree\n",
    "from sklearn.impute import SimpleImputer"
   ]
  },
  {
   "cell_type": "markdown",
   "id": "fd32f26b",
   "metadata": {},
   "source": [
    "## 2. Loading the dataset"
   ]
  },
  {
   "cell_type": "code",
   "execution_count": 6,
   "id": "c64fc59c",
   "metadata": {},
   "outputs": [
    {
     "data": {
      "text/html": [
       "<div>\n",
       "<style scoped>\n",
       "    .dataframe tbody tr th:only-of-type {\n",
       "        vertical-align: middle;\n",
       "    }\n",
       "\n",
       "    .dataframe tbody tr th {\n",
       "        vertical-align: top;\n",
       "    }\n",
       "\n",
       "    .dataframe thead th {\n",
       "        text-align: right;\n",
       "    }\n",
       "</style>\n",
       "<table border=\"1\" class=\"dataframe\">\n",
       "  <thead>\n",
       "    <tr style=\"text-align: right;\">\n",
       "      <th></th>\n",
       "      <th>yummy</th>\n",
       "      <th>convenient</th>\n",
       "      <th>spicy</th>\n",
       "      <th>fattening</th>\n",
       "      <th>greasy</th>\n",
       "      <th>fast</th>\n",
       "      <th>cheap</th>\n",
       "      <th>tasty</th>\n",
       "      <th>expensive</th>\n",
       "      <th>healthy</th>\n",
       "      <th>disgusting</th>\n",
       "      <th>Like</th>\n",
       "      <th>Age</th>\n",
       "      <th>VisitFrequency</th>\n",
       "      <th>Gender</th>\n",
       "    </tr>\n",
       "  </thead>\n",
       "  <tbody>\n",
       "    <tr>\n",
       "      <th>0</th>\n",
       "      <td>No</td>\n",
       "      <td>Yes</td>\n",
       "      <td>No</td>\n",
       "      <td>Yes</td>\n",
       "      <td>No</td>\n",
       "      <td>Yes</td>\n",
       "      <td>Yes</td>\n",
       "      <td>No</td>\n",
       "      <td>Yes</td>\n",
       "      <td>No</td>\n",
       "      <td>No</td>\n",
       "      <td>-3</td>\n",
       "      <td>61</td>\n",
       "      <td>Every three months</td>\n",
       "      <td>Female</td>\n",
       "    </tr>\n",
       "    <tr>\n",
       "      <th>1</th>\n",
       "      <td>Yes</td>\n",
       "      <td>Yes</td>\n",
       "      <td>No</td>\n",
       "      <td>Yes</td>\n",
       "      <td>Yes</td>\n",
       "      <td>Yes</td>\n",
       "      <td>Yes</td>\n",
       "      <td>Yes</td>\n",
       "      <td>Yes</td>\n",
       "      <td>No</td>\n",
       "      <td>No</td>\n",
       "      <td>+2</td>\n",
       "      <td>51</td>\n",
       "      <td>Every three months</td>\n",
       "      <td>Female</td>\n",
       "    </tr>\n",
       "    <tr>\n",
       "      <th>2</th>\n",
       "      <td>No</td>\n",
       "      <td>Yes</td>\n",
       "      <td>Yes</td>\n",
       "      <td>Yes</td>\n",
       "      <td>Yes</td>\n",
       "      <td>Yes</td>\n",
       "      <td>No</td>\n",
       "      <td>Yes</td>\n",
       "      <td>Yes</td>\n",
       "      <td>Yes</td>\n",
       "      <td>No</td>\n",
       "      <td>+1</td>\n",
       "      <td>62</td>\n",
       "      <td>Every three months</td>\n",
       "      <td>Female</td>\n",
       "    </tr>\n",
       "    <tr>\n",
       "      <th>3</th>\n",
       "      <td>Yes</td>\n",
       "      <td>Yes</td>\n",
       "      <td>No</td>\n",
       "      <td>Yes</td>\n",
       "      <td>Yes</td>\n",
       "      <td>Yes</td>\n",
       "      <td>Yes</td>\n",
       "      <td>Yes</td>\n",
       "      <td>No</td>\n",
       "      <td>No</td>\n",
       "      <td>Yes</td>\n",
       "      <td>+4</td>\n",
       "      <td>69</td>\n",
       "      <td>Once a week</td>\n",
       "      <td>Female</td>\n",
       "    </tr>\n",
       "    <tr>\n",
       "      <th>4</th>\n",
       "      <td>No</td>\n",
       "      <td>Yes</td>\n",
       "      <td>No</td>\n",
       "      <td>Yes</td>\n",
       "      <td>Yes</td>\n",
       "      <td>Yes</td>\n",
       "      <td>Yes</td>\n",
       "      <td>No</td>\n",
       "      <td>No</td>\n",
       "      <td>Yes</td>\n",
       "      <td>No</td>\n",
       "      <td>+2</td>\n",
       "      <td>49</td>\n",
       "      <td>Once a month</td>\n",
       "      <td>Male</td>\n",
       "    </tr>\n",
       "    <tr>\n",
       "      <th>...</th>\n",
       "      <td>...</td>\n",
       "      <td>...</td>\n",
       "      <td>...</td>\n",
       "      <td>...</td>\n",
       "      <td>...</td>\n",
       "      <td>...</td>\n",
       "      <td>...</td>\n",
       "      <td>...</td>\n",
       "      <td>...</td>\n",
       "      <td>...</td>\n",
       "      <td>...</td>\n",
       "      <td>...</td>\n",
       "      <td>...</td>\n",
       "      <td>...</td>\n",
       "      <td>...</td>\n",
       "    </tr>\n",
       "    <tr>\n",
       "      <th>1448</th>\n",
       "      <td>No</td>\n",
       "      <td>Yes</td>\n",
       "      <td>No</td>\n",
       "      <td>Yes</td>\n",
       "      <td>Yes</td>\n",
       "      <td>No</td>\n",
       "      <td>No</td>\n",
       "      <td>No</td>\n",
       "      <td>Yes</td>\n",
       "      <td>No</td>\n",
       "      <td>Yes</td>\n",
       "      <td>I hate it!-5</td>\n",
       "      <td>47</td>\n",
       "      <td>Once a year</td>\n",
       "      <td>Male</td>\n",
       "    </tr>\n",
       "    <tr>\n",
       "      <th>1449</th>\n",
       "      <td>Yes</td>\n",
       "      <td>Yes</td>\n",
       "      <td>No</td>\n",
       "      <td>Yes</td>\n",
       "      <td>No</td>\n",
       "      <td>No</td>\n",
       "      <td>Yes</td>\n",
       "      <td>Yes</td>\n",
       "      <td>No</td>\n",
       "      <td>Yes</td>\n",
       "      <td>No</td>\n",
       "      <td>+2</td>\n",
       "      <td>36</td>\n",
       "      <td>Once a week</td>\n",
       "      <td>Female</td>\n",
       "    </tr>\n",
       "    <tr>\n",
       "      <th>1450</th>\n",
       "      <td>Yes</td>\n",
       "      <td>Yes</td>\n",
       "      <td>No</td>\n",
       "      <td>Yes</td>\n",
       "      <td>No</td>\n",
       "      <td>Yes</td>\n",
       "      <td>No</td>\n",
       "      <td>Yes</td>\n",
       "      <td>Yes</td>\n",
       "      <td>No</td>\n",
       "      <td>No</td>\n",
       "      <td>+3</td>\n",
       "      <td>52</td>\n",
       "      <td>Once a month</td>\n",
       "      <td>Female</td>\n",
       "    </tr>\n",
       "    <tr>\n",
       "      <th>1451</th>\n",
       "      <td>Yes</td>\n",
       "      <td>Yes</td>\n",
       "      <td>No</td>\n",
       "      <td>No</td>\n",
       "      <td>No</td>\n",
       "      <td>Yes</td>\n",
       "      <td>Yes</td>\n",
       "      <td>Yes</td>\n",
       "      <td>No</td>\n",
       "      <td>Yes</td>\n",
       "      <td>No</td>\n",
       "      <td>+4</td>\n",
       "      <td>41</td>\n",
       "      <td>Every three months</td>\n",
       "      <td>Male</td>\n",
       "    </tr>\n",
       "    <tr>\n",
       "      <th>1452</th>\n",
       "      <td>No</td>\n",
       "      <td>Yes</td>\n",
       "      <td>No</td>\n",
       "      <td>Yes</td>\n",
       "      <td>Yes</td>\n",
       "      <td>No</td>\n",
       "      <td>No</td>\n",
       "      <td>No</td>\n",
       "      <td>Yes</td>\n",
       "      <td>No</td>\n",
       "      <td>Yes</td>\n",
       "      <td>-3</td>\n",
       "      <td>30</td>\n",
       "      <td>Every three months</td>\n",
       "      <td>Male</td>\n",
       "    </tr>\n",
       "  </tbody>\n",
       "</table>\n",
       "<p>1453 rows × 15 columns</p>\n",
       "</div>"
      ],
      "text/plain": [
       "     yummy convenient spicy fattening greasy fast cheap tasty expensive  \\\n",
       "0       No        Yes    No       Yes     No  Yes   Yes    No       Yes   \n",
       "1      Yes        Yes    No       Yes    Yes  Yes   Yes   Yes       Yes   \n",
       "2       No        Yes   Yes       Yes    Yes  Yes    No   Yes       Yes   \n",
       "3      Yes        Yes    No       Yes    Yes  Yes   Yes   Yes        No   \n",
       "4       No        Yes    No       Yes    Yes  Yes   Yes    No        No   \n",
       "...    ...        ...   ...       ...    ...  ...   ...   ...       ...   \n",
       "1448    No        Yes    No       Yes    Yes   No    No    No       Yes   \n",
       "1449   Yes        Yes    No       Yes     No   No   Yes   Yes        No   \n",
       "1450   Yes        Yes    No       Yes     No  Yes    No   Yes       Yes   \n",
       "1451   Yes        Yes    No        No     No  Yes   Yes   Yes        No   \n",
       "1452    No        Yes    No       Yes    Yes   No    No    No       Yes   \n",
       "\n",
       "     healthy disgusting          Like  Age      VisitFrequency  Gender  \n",
       "0         No         No            -3   61  Every three months  Female  \n",
       "1         No         No            +2   51  Every three months  Female  \n",
       "2        Yes         No            +1   62  Every three months  Female  \n",
       "3         No        Yes            +4   69         Once a week  Female  \n",
       "4        Yes         No            +2   49        Once a month    Male  \n",
       "...      ...        ...           ...  ...                 ...     ...  \n",
       "1448      No        Yes  I hate it!-5   47         Once a year    Male  \n",
       "1449     Yes         No            +2   36         Once a week  Female  \n",
       "1450      No         No            +3   52        Once a month  Female  \n",
       "1451     Yes         No            +4   41  Every three months    Male  \n",
       "1452      No        Yes            -3   30  Every three months    Male  \n",
       "\n",
       "[1453 rows x 15 columns]"
      ]
     },
     "execution_count": 6,
     "metadata": {},
     "output_type": "execute_result"
    }
   ],
   "source": [
    "data = pd.read_csv(\"mcdonalds.csv\")\n",
    "data"
   ]
  },
  {
   "cell_type": "markdown",
   "id": "0a0a85a4",
   "metadata": {},
   "source": [
    "The data set contains responses from **1453 adult Australian consumers** relating to their perceptions of McDonald’s "
   ]
  },
  {
   "cell_type": "markdown",
   "id": "b8e103a8",
   "metadata": {},
   "source": [
    "## 3. Exploring the Dataset"
   ]
  },
  {
   "cell_type": "code",
   "execution_count": 10,
   "id": "5f7d8b0a",
   "metadata": {},
   "outputs": [
    {
     "data": {
      "text/plain": [
       "['yummy',\n",
       " 'convenient',\n",
       " 'spicy',\n",
       " 'fattening',\n",
       " 'greasy',\n",
       " 'fast',\n",
       " 'cheap',\n",
       " 'tasty',\n",
       " 'expensive',\n",
       " 'healthy',\n",
       " 'disgusting',\n",
       " 'Like',\n",
       " 'Age',\n",
       " 'VisitFrequency',\n",
       " 'Gender']"
      ]
     },
     "execution_count": 10,
     "metadata": {},
     "output_type": "execute_result"
    }
   ],
   "source": [
    "data.columns.tolist()"
   ]
  },
  {
   "cell_type": "code",
   "execution_count": 12,
   "id": "e6e86c9b",
   "metadata": {},
   "outputs": [
    {
     "data": {
      "text/plain": [
       "(1453, 15)"
      ]
     },
     "execution_count": 12,
     "metadata": {},
     "output_type": "execute_result"
    }
   ],
   "source": [
    "data.shape"
   ]
  },
  {
   "cell_type": "code",
   "execution_count": 14,
   "id": "d55f1bf4",
   "metadata": {},
   "outputs": [
    {
     "data": {
      "text/html": [
       "<div>\n",
       "<style scoped>\n",
       "    .dataframe tbody tr th:only-of-type {\n",
       "        vertical-align: middle;\n",
       "    }\n",
       "\n",
       "    .dataframe tbody tr th {\n",
       "        vertical-align: top;\n",
       "    }\n",
       "\n",
       "    .dataframe thead th {\n",
       "        text-align: right;\n",
       "    }\n",
       "</style>\n",
       "<table border=\"1\" class=\"dataframe\">\n",
       "  <thead>\n",
       "    <tr style=\"text-align: right;\">\n",
       "      <th></th>\n",
       "      <th>yummy</th>\n",
       "      <th>convenient</th>\n",
       "      <th>spicy</th>\n",
       "      <th>fattening</th>\n",
       "      <th>greasy</th>\n",
       "      <th>fast</th>\n",
       "      <th>cheap</th>\n",
       "      <th>tasty</th>\n",
       "      <th>expensive</th>\n",
       "      <th>healthy</th>\n",
       "      <th>disgusting</th>\n",
       "      <th>Like</th>\n",
       "      <th>Age</th>\n",
       "      <th>VisitFrequency</th>\n",
       "      <th>Gender</th>\n",
       "    </tr>\n",
       "  </thead>\n",
       "  <tbody>\n",
       "    <tr>\n",
       "      <th>0</th>\n",
       "      <td>No</td>\n",
       "      <td>Yes</td>\n",
       "      <td>No</td>\n",
       "      <td>Yes</td>\n",
       "      <td>No</td>\n",
       "      <td>Yes</td>\n",
       "      <td>Yes</td>\n",
       "      <td>No</td>\n",
       "      <td>Yes</td>\n",
       "      <td>No</td>\n",
       "      <td>No</td>\n",
       "      <td>-3</td>\n",
       "      <td>61</td>\n",
       "      <td>Every three months</td>\n",
       "      <td>Female</td>\n",
       "    </tr>\n",
       "    <tr>\n",
       "      <th>1</th>\n",
       "      <td>Yes</td>\n",
       "      <td>Yes</td>\n",
       "      <td>No</td>\n",
       "      <td>Yes</td>\n",
       "      <td>Yes</td>\n",
       "      <td>Yes</td>\n",
       "      <td>Yes</td>\n",
       "      <td>Yes</td>\n",
       "      <td>Yes</td>\n",
       "      <td>No</td>\n",
       "      <td>No</td>\n",
       "      <td>+2</td>\n",
       "      <td>51</td>\n",
       "      <td>Every three months</td>\n",
       "      <td>Female</td>\n",
       "    </tr>\n",
       "    <tr>\n",
       "      <th>2</th>\n",
       "      <td>No</td>\n",
       "      <td>Yes</td>\n",
       "      <td>Yes</td>\n",
       "      <td>Yes</td>\n",
       "      <td>Yes</td>\n",
       "      <td>Yes</td>\n",
       "      <td>No</td>\n",
       "      <td>Yes</td>\n",
       "      <td>Yes</td>\n",
       "      <td>Yes</td>\n",
       "      <td>No</td>\n",
       "      <td>+1</td>\n",
       "      <td>62</td>\n",
       "      <td>Every three months</td>\n",
       "      <td>Female</td>\n",
       "    </tr>\n",
       "  </tbody>\n",
       "</table>\n",
       "</div>"
      ],
      "text/plain": [
       "  yummy convenient spicy fattening greasy fast cheap tasty expensive healthy  \\\n",
       "0    No        Yes    No       Yes     No  Yes   Yes    No       Yes      No   \n",
       "1   Yes        Yes    No       Yes    Yes  Yes   Yes   Yes       Yes      No   \n",
       "2    No        Yes   Yes       Yes    Yes  Yes    No   Yes       Yes     Yes   \n",
       "\n",
       "  disgusting Like  Age      VisitFrequency  Gender  \n",
       "0         No   -3   61  Every three months  Female  \n",
       "1         No   +2   51  Every three months  Female  \n",
       "2         No   +1   62  Every three months  Female  "
      ]
     },
     "execution_count": 14,
     "metadata": {},
     "output_type": "execute_result"
    }
   ],
   "source": [
    "data.head(3)"
   ]
  },
  {
   "cell_type": "markdown",
   "id": "e6176754",
   "metadata": {},
   "source": [
    "Looking at the data quickly reveals that the segmentation variables (McDonald's perception) are not numerical but rather verbal."
   ]
  },
  {
   "cell_type": "code",
   "execution_count": 17,
   "id": "a1f5e6be",
   "metadata": {},
   "outputs": [
    {
     "name": "stdout",
     "output_type": "stream",
     "text": [
      "<class 'pandas.core.frame.DataFrame'>\n",
      "RangeIndex: 1453 entries, 0 to 1452\n",
      "Data columns (total 15 columns):\n",
      " #   Column          Non-Null Count  Dtype \n",
      "---  ------          --------------  ----- \n",
      " 0   yummy           1453 non-null   object\n",
      " 1   convenient      1453 non-null   object\n",
      " 2   spicy           1453 non-null   object\n",
      " 3   fattening       1453 non-null   object\n",
      " 4   greasy          1453 non-null   object\n",
      " 5   fast            1453 non-null   object\n",
      " 6   cheap           1453 non-null   object\n",
      " 7   tasty           1453 non-null   object\n",
      " 8   expensive       1453 non-null   object\n",
      " 9   healthy         1453 non-null   object\n",
      " 10  disgusting      1453 non-null   object\n",
      " 11  Like            1453 non-null   object\n",
      " 12  Age             1453 non-null   int64 \n",
      " 13  VisitFrequency  1453 non-null   object\n",
      " 14  Gender          1453 non-null   object\n",
      "dtypes: int64(1), object(14)\n",
      "memory usage: 170.4+ KB\n"
     ]
    }
   ],
   "source": [
    "data.info()"
   ]
  },
  {
   "cell_type": "code",
   "execution_count": 19,
   "id": "dc0f3695",
   "metadata": {},
   "outputs": [
    {
     "name": "stdout",
     "output_type": "stream",
     "text": [
      "yummy             0\n",
      "convenient        0\n",
      "spicy             0\n",
      "fattening         0\n",
      "greasy            0\n",
      "fast              0\n",
      "cheap             0\n",
      "tasty             0\n",
      "expensive         0\n",
      "healthy           0\n",
      "disgusting        0\n",
      "Like              0\n",
      "Age               0\n",
      "VisitFrequency    0\n",
      "Gender            0\n",
      "dtype: int64\n"
     ]
    }
   ],
   "source": [
    "print(pd.isnull(data).sum())"
   ]
  },
  {
   "cell_type": "code",
   "execution_count": 21,
   "id": "12fa7d4a",
   "metadata": {},
   "outputs": [
    {
     "data": {
      "text/plain": [
       "yummy\n",
       "Yes    803\n",
       "No     650\n",
       "Name: count, dtype: int64"
      ]
     },
     "execution_count": 21,
     "metadata": {},
     "output_type": "execute_result"
    }
   ],
   "source": [
    "data['yummy'].value_counts()"
   ]
  },
  {
   "cell_type": "code",
   "execution_count": 23,
   "id": "57f9ba70",
   "metadata": {},
   "outputs": [
    {
     "data": {
      "text/plain": [
       "Like\n",
       "+3              229\n",
       "+2              187\n",
       "0               169\n",
       "+4              160\n",
       "+1              152\n",
       "I hate it!-5    152\n",
       "I love it!+5    143\n",
       "-3               73\n",
       "-4               71\n",
       "-2               59\n",
       "-1               58\n",
       "Name: count, dtype: int64"
      ]
     },
     "execution_count": 23,
     "metadata": {},
     "output_type": "execute_result"
    }
   ],
   "source": [
    "data['Like'].value_counts()"
   ]
  },
  {
   "cell_type": "code",
   "execution_count": 25,
   "id": "24c05a28",
   "metadata": {},
   "outputs": [],
   "source": [
    "#For convinence renaming the category\n",
    "data['Like']= data['Like'].replace({'I hate it!-5': '-5','I love it!+5':'+5'})"
   ]
  },
  {
   "cell_type": "code",
   "execution_count": 27,
   "id": "62bd59b8",
   "metadata": {},
   "outputs": [
    {
     "name": "stdout",
     "output_type": "stream",
     "text": [
      "{'yummy': 0.55, 'convenient': 0.91, 'spicy': 0.09, 'fattening': 0.87, 'greasy': 0.53, 'fast': 0.9, 'cheap': 0.6, 'tasty': 0.64, 'expensive': 0.36, 'healthy': 0.2, 'disgusting': 0.24}\n"
     ]
    }
   ],
   "source": [
    "# Extract relevant columns\n",
    "MD_x = data.iloc[:, 0:11]\n",
    "\n",
    "# Convert \"Yes\" to 1, \"No\" to 0\n",
    "MD_x = (MD_x == \"Yes\").astype(int)\n",
    "# Calculating and rounding the column means\n",
    "columnMeans = np.round(MD_x.mean(), 2)\n",
    "columnHeadings = data.columns\n",
    "\n",
    "# Printing the column headings with the corresponding rounded column means\n",
    "result = dict(zip(columnHeadings, columnMeans))\n",
    "print(result)"
   ]
  },
  {
   "cell_type": "markdown",
   "id": "1dd513d6",
   "metadata": {},
   "source": [
    "According to the average values of the transformed binary numeric segmentation variables, just ***9%*** of respondents think that McDonald's food is *Spicy*, whereas ***55%*** of respondents think that the restaurant's food is *Yummy* and ***91%*** think it's *Convenient*."
   ]
  },
  {
   "cell_type": "markdown",
   "id": "05358003",
   "metadata": {},
   "source": [
    "### Performing PCA"
   ]
  },
  {
   "cell_type": "code",
   "execution_count": 31,
   "id": "00c50154",
   "metadata": {},
   "outputs": [
    {
     "name": "stdout",
     "output_type": "stream",
     "text": [
      "    Standard deviation  Proportion of variance  Cumulative Proportion:\n",
      "0             0.757050                0.299447                0.299447\n",
      "1             0.607456                0.192797                0.492244\n",
      "2             0.504619                0.133045                0.625290\n",
      "3             0.398799                0.083096                0.708386\n",
      "4             0.337405                0.059481                0.767866\n",
      "5             0.310275                0.050300                0.818166\n",
      "6             0.289697                0.043849                0.862015\n",
      "7             0.275122                0.039548                0.901563\n",
      "8             0.265251                0.036761                0.938323\n",
      "9             0.248842                0.032353                0.970677\n",
      "10            0.236903                0.029323                1.000000\n"
     ]
    }
   ],
   "source": [
    "MD_pca = PCA()\n",
    "MD_pca.fit(MD_x)\n",
    "\n",
    "# Display PCA summary and components\n",
    "print(pd.DataFrame({'Standard deviation': np.sqrt(MD_pca.explained_variance_),'Proportion of variance': MD_pca.explained_variance_ratio_, 'Cumulative Proportion:': np.cumsum(MD_pca.explained_variance_ratio_)}))"
   ]
  },
  {
   "cell_type": "code",
   "execution_count": 33,
   "id": "98852390",
   "metadata": {},
   "outputs": [
    {
     "name": "stdout",
     "output_type": "stream",
     "text": [
      "Standard deviations:\n",
      "[0.6 0.4 0.3 0.2 0.1 0.1 0.1 0.1 0.1 0.1 0.1]\n",
      "\n",
      "Proportion of Variance:\n",
      "[0.3 0.2 0.1 0.1 0.1 0.1 0.  0.  0.  0.  0. ]\n",
      "\n",
      "Cumulative Proportion:\n",
      "[0.3 0.5 0.6 0.7 0.8 0.8 0.9 0.9 0.9 1.  1. ]\n"
     ]
    }
   ],
   "source": [
    "print(\"Standard deviations:\")\n",
    "print(np.round(MD_pca.explained_variance_, 1))\n",
    "print(\"\\nProportion of Variance:\")\n",
    "print(np.round(MD_pca.explained_variance_ratio_, 1))\n",
    "print(\"\\nCumulative Proportion:\")\n",
    "print(np.round(np.cumsum(MD_pca.explained_variance_ratio_), 1))"
   ]
  },
  {
   "cell_type": "code",
   "execution_count": 35,
   "id": "4e26f52a",
   "metadata": {
    "scrolled": true
   },
   "outputs": [
    {
     "name": "stdout",
     "output_type": "stream",
     "text": [
      "\n",
      "Rotation (n x k) = (11 x 11)\n",
      "\n"
     ]
    },
    {
     "data": {
      "text/html": [
       "<div>\n",
       "<style scoped>\n",
       "    .dataframe tbody tr th:only-of-type {\n",
       "        vertical-align: middle;\n",
       "    }\n",
       "\n",
       "    .dataframe tbody tr th {\n",
       "        vertical-align: top;\n",
       "    }\n",
       "\n",
       "    .dataframe thead th {\n",
       "        text-align: right;\n",
       "    }\n",
       "</style>\n",
       "<table border=\"1\" class=\"dataframe\">\n",
       "  <thead>\n",
       "    <tr style=\"text-align: right;\">\n",
       "      <th></th>\n",
       "      <th>PC1</th>\n",
       "      <th>PC2</th>\n",
       "      <th>PC3</th>\n",
       "      <th>PC4</th>\n",
       "      <th>PC5</th>\n",
       "      <th>PC6</th>\n",
       "      <th>PC7</th>\n",
       "      <th>PC8</th>\n",
       "      <th>PC9</th>\n",
       "      <th>PC10</th>\n",
       "      <th>PC11</th>\n",
       "    </tr>\n",
       "  </thead>\n",
       "  <tbody>\n",
       "    <tr>\n",
       "      <th>0</th>\n",
       "      <td>0.425367</td>\n",
       "      <td>-0.219079</td>\n",
       "      <td>0.663255</td>\n",
       "      <td>-0.401300</td>\n",
       "      <td>0.201705</td>\n",
       "      <td>-0.389767</td>\n",
       "      <td>-0.211982</td>\n",
       "      <td>0.163235</td>\n",
       "      <td>0.181007</td>\n",
       "      <td>0.515706</td>\n",
       "      <td>-0.567074</td>\n",
       "    </tr>\n",
       "    <tr>\n",
       "      <th>1</th>\n",
       "      <td>-0.218638</td>\n",
       "      <td>0.388190</td>\n",
       "      <td>-0.730827</td>\n",
       "      <td>-0.094724</td>\n",
       "      <td>0.044669</td>\n",
       "      <td>-0.086596</td>\n",
       "      <td>-0.095877</td>\n",
       "      <td>-0.034756</td>\n",
       "      <td>0.111476</td>\n",
       "      <td>0.493313</td>\n",
       "      <td>-0.500440</td>\n",
       "    </tr>\n",
       "    <tr>\n",
       "      <th>2</th>\n",
       "      <td>0.375415</td>\n",
       "      <td>0.730435</td>\n",
       "      <td>-0.122040</td>\n",
       "      <td>0.692262</td>\n",
       "      <td>0.839643</td>\n",
       "      <td>-0.687406</td>\n",
       "      <td>0.583112</td>\n",
       "      <td>0.364379</td>\n",
       "      <td>-0.322288</td>\n",
       "      <td>0.061759</td>\n",
       "      <td>0.242741</td>\n",
       "    </tr>\n",
       "    <tr>\n",
       "      <th>3</th>\n",
       "      <td>-0.172926</td>\n",
       "      <td>-0.352752</td>\n",
       "      <td>-0.843795</td>\n",
       "      <td>0.206998</td>\n",
       "      <td>-0.681415</td>\n",
       "      <td>-0.036133</td>\n",
       "      <td>-0.054284</td>\n",
       "      <td>-0.231477</td>\n",
       "      <td>-0.028003</td>\n",
       "      <td>-0.250678</td>\n",
       "      <td>-0.051034</td>\n",
       "    </tr>\n",
       "    <tr>\n",
       "      <th>4</th>\n",
       "      <td>0.187057</td>\n",
       "      <td>-0.807610</td>\n",
       "      <td>0.028537</td>\n",
       "      <td>0.548332</td>\n",
       "      <td>0.854074</td>\n",
       "      <td>-0.097305</td>\n",
       "      <td>-0.457043</td>\n",
       "      <td>0.171758</td>\n",
       "      <td>-0.074409</td>\n",
       "      <td>0.031897</td>\n",
       "      <td>0.082245</td>\n",
       "    </tr>\n",
       "    <tr>\n",
       "      <th>...</th>\n",
       "      <td>...</td>\n",
       "      <td>...</td>\n",
       "      <td>...</td>\n",
       "      <td>...</td>\n",
       "      <td>...</td>\n",
       "      <td>...</td>\n",
       "      <td>...</td>\n",
       "      <td>...</td>\n",
       "      <td>...</td>\n",
       "      <td>...</td>\n",
       "      <td>...</td>\n",
       "    </tr>\n",
       "    <tr>\n",
       "      <th>1448</th>\n",
       "      <td>1.550242</td>\n",
       "      <td>0.275031</td>\n",
       "      <td>-0.013737</td>\n",
       "      <td>0.200604</td>\n",
       "      <td>-0.145063</td>\n",
       "      <td>0.306575</td>\n",
       "      <td>-0.075308</td>\n",
       "      <td>0.345552</td>\n",
       "      <td>-0.136589</td>\n",
       "      <td>-0.432798</td>\n",
       "      <td>-0.456076</td>\n",
       "    </tr>\n",
       "    <tr>\n",
       "      <th>1449</th>\n",
       "      <td>-0.957339</td>\n",
       "      <td>0.014308</td>\n",
       "      <td>0.303843</td>\n",
       "      <td>0.444350</td>\n",
       "      <td>-0.133690</td>\n",
       "      <td>0.381804</td>\n",
       "      <td>-0.326432</td>\n",
       "      <td>0.878047</td>\n",
       "      <td>-0.304441</td>\n",
       "      <td>-0.247443</td>\n",
       "      <td>-0.193671</td>\n",
       "    </tr>\n",
       "    <tr>\n",
       "      <th>1450</th>\n",
       "      <td>-0.185894</td>\n",
       "      <td>1.062662</td>\n",
       "      <td>0.220857</td>\n",
       "      <td>-0.467643</td>\n",
       "      <td>-0.187757</td>\n",
       "      <td>-0.192703</td>\n",
       "      <td>-0.091597</td>\n",
       "      <td>-0.036576</td>\n",
       "      <td>0.038255</td>\n",
       "      <td>0.056518</td>\n",
       "      <td>-0.012800</td>\n",
       "    </tr>\n",
       "    <tr>\n",
       "      <th>1451</th>\n",
       "      <td>-1.182064</td>\n",
       "      <td>-0.038570</td>\n",
       "      <td>0.561561</td>\n",
       "      <td>0.701126</td>\n",
       "      <td>0.047645</td>\n",
       "      <td>0.193687</td>\n",
       "      <td>-0.027335</td>\n",
       "      <td>-0.339374</td>\n",
       "      <td>0.022267</td>\n",
       "      <td>-0.002573</td>\n",
       "      <td>-0.105316</td>\n",
       "    </tr>\n",
       "    <tr>\n",
       "      <th>1452</th>\n",
       "      <td>1.550242</td>\n",
       "      <td>0.275031</td>\n",
       "      <td>-0.013737</td>\n",
       "      <td>0.200604</td>\n",
       "      <td>-0.145063</td>\n",
       "      <td>0.306575</td>\n",
       "      <td>-0.075308</td>\n",
       "      <td>0.345552</td>\n",
       "      <td>-0.136589</td>\n",
       "      <td>-0.432798</td>\n",
       "      <td>-0.456076</td>\n",
       "    </tr>\n",
       "  </tbody>\n",
       "</table>\n",
       "<p>1453 rows × 11 columns</p>\n",
       "</div>"
      ],
      "text/plain": [
       "           PC1       PC2       PC3       PC4       PC5       PC6       PC7  \\\n",
       "0     0.425367 -0.219079  0.663255 -0.401300  0.201705 -0.389767 -0.211982   \n",
       "1    -0.218638  0.388190 -0.730827 -0.094724  0.044669 -0.086596 -0.095877   \n",
       "2     0.375415  0.730435 -0.122040  0.692262  0.839643 -0.687406  0.583112   \n",
       "3    -0.172926 -0.352752 -0.843795  0.206998 -0.681415 -0.036133 -0.054284   \n",
       "4     0.187057 -0.807610  0.028537  0.548332  0.854074 -0.097305 -0.457043   \n",
       "...        ...       ...       ...       ...       ...       ...       ...   \n",
       "1448  1.550242  0.275031 -0.013737  0.200604 -0.145063  0.306575 -0.075308   \n",
       "1449 -0.957339  0.014308  0.303843  0.444350 -0.133690  0.381804 -0.326432   \n",
       "1450 -0.185894  1.062662  0.220857 -0.467643 -0.187757 -0.192703 -0.091597   \n",
       "1451 -1.182064 -0.038570  0.561561  0.701126  0.047645  0.193687 -0.027335   \n",
       "1452  1.550242  0.275031 -0.013737  0.200604 -0.145063  0.306575 -0.075308   \n",
       "\n",
       "           PC8       PC9      PC10      PC11  \n",
       "0     0.163235  0.181007  0.515706 -0.567074  \n",
       "1    -0.034756  0.111476  0.493313 -0.500440  \n",
       "2     0.364379 -0.322288  0.061759  0.242741  \n",
       "3    -0.231477 -0.028003 -0.250678 -0.051034  \n",
       "4     0.171758 -0.074409  0.031897  0.082245  \n",
       "...        ...       ...       ...       ...  \n",
       "1448  0.345552 -0.136589 -0.432798 -0.456076  \n",
       "1449  0.878047 -0.304441 -0.247443 -0.193671  \n",
       "1450 -0.036576  0.038255  0.056518 -0.012800  \n",
       "1451 -0.339374  0.022267 -0.002573 -0.105316  \n",
       "1452  0.345552 -0.136589 -0.432798 -0.456076  \n",
       "\n",
       "[1453 rows x 11 columns]"
      ]
     },
     "execution_count": 35,
     "metadata": {},
     "output_type": "execute_result"
    }
   ],
   "source": [
    "pca = PCA()\n",
    "pc = pca.fit_transform(MD_x)\n",
    "\n",
    "columnNames = ['PC1', 'PC2', 'PC3', 'PC4', 'PC5', 'PC6', 'PC7', 'PC8', 'PC9', 'PC10', 'PC11']\n",
    "pca_data = pd.DataFrame(data = pc, columns = columnNames)\n",
    "\n",
    "print(\"\\nRotation (n x k) = (11 x 11)\\n\")\n",
    "pca_data"
   ]
  },
  {
   "cell_type": "markdown",
   "id": "589788a3",
   "metadata": {},
   "source": [
    "The loadings indicate how the original variables are combined to form principal components."
   ]
  },
  {
   "cell_type": "code",
   "execution_count": 38,
   "id": "4c64cbb0",
   "metadata": {},
   "outputs": [
    {
     "data": {
      "image/png": "[encoded data removed]",
      "text/plain": [
       "<Figure size 640x480 with 1 Axes>"
      ]
     },
     "metadata": {},
     "output_type": "display_data"
    }
   ],
   "source": [
    "# Plot PCA results\n",
    "plt.scatter(MD_pca.transform(MD_x)[:, 0], MD_pca.transform(MD_x)[:, 1], c=\"grey\")\n",
    "plt.xlabel(\"Principal Component 1\")\n",
    "plt.ylabel(\"Principal Component 2\")\n",
    "plt.show()"
   ]
  },
  {
   "cell_type": "markdown",
   "id": "9281f3ae",
   "metadata": {},
   "source": [
    "For segment extraction, this first exploration provides insightful data. The findings show that some characteristics are highly correlated with one another and that price may be a key factor in separating distinct customer groups."
   ]
  },
  {
   "cell_type": "markdown",
   "id": "7a3f5bff",
   "metadata": {},
   "source": [
    "## 4. Extracting Segments"
   ]
  },
  {
   "cell_type": "markdown",
   "id": "7a08e2eb",
   "metadata": {},
   "source": [
    "### 4.1 Using k-Means"
   ]
  },
  {
   "cell_type": "code",
   "execution_count": 43,
   "id": "28664f91",
   "metadata": {},
   "outputs": [
    {
     "data": {
      "image/png": "[encoded data removed]",
      "text/plain": [
       "<Figure size 640x480 with 1 Axes>"
      ]
     },
     "metadata": {},
     "output_type": "display_data"
    }
   ],
   "source": [
    "# Perform k-means clustering with k values from 2 to 8\n",
    "k_values = range(2, 9)\n",
    "inertia_values = []\n",
    "\n",
    "for k in k_values:\n",
    "    kmeans = KMeans(n_clusters=k, n_init=10, random_state=1234)\n",
    "    kmeans.fit(MD_x)\n",
    "    inertia_values.append(kmeans.inertia_)\n",
    "\n",
    "# Plotting the Elbow Method\n",
    "plt.bar(k_values, inertia_values, color='#063e6b', alpha=0.7)\n",
    "plt.title('Elbow Method for Optimal k')\n",
    "plt.xlabel('Number of Segments (k)')\n",
    "plt.ylabel('Sum of within cluster distances')\n",
    "plt.show()"
   ]
  },
  {
   "cell_type": "markdown",
   "id": "f499cb9a",
   "metadata": {},
   "source": [
    "The sum of distances within market segments *drops slowly* as the *number of market segments increases*"
   ]
  },
  {
   "cell_type": "code",
   "execution_count": 46,
   "id": "7769b94a",
   "metadata": {},
   "outputs": [
    {
     "data": {
      "image/png": "[encoded data removed]",
      "text/plain": [
       "<Figure size 640x480 with 1 Axes>"
      ]
     },
     "metadata": {},
     "output_type": "display_data"
    }
   ],
   "source": [
    "# Performing k-Means clustering for k values ranging from 2 to 8\n",
    "results = {}\n",
    "for k in range(2, 9):\n",
    "    kmeans_model = KMeans(n_clusters=k, n_init=10, random_state=1234)\n",
    "    kmeans_labels = kmeans_model.fit_predict(MD_x)\n",
    "    results[str(k)] = kmeans_labels\n",
    "    data['Cluster Number'] = kmeans_labels\n",
    "\n",
    "# Calculating adjusted rand index for each k value\n",
    "ari_values = []\n",
    "for k1 in range(2, 9):\n",
    "    ari_values.append([adjusted_rand_score(results[str(k1)], results[str(k2)]) for k2 in range(2, 9)])\n",
    "\n",
    "# Convert ari_values to a NumPy array for easier plotting\n",
    "ari_values = np.array(ari_values)\n",
    "\n",
    "# Create a box plot\n",
    "plt.boxplot(ari_values.T, labels=list(range(2, 9)))\n",
    "plt.xlabel('Number of Segments (k)')\n",
    "plt.ylabel('Adjusted Rand Index')\n",
    "plt.title('Global stability of k-means segmentation solutions')\n",
    "plt.show()"
   ]
  },
  {
   "cell_type": "markdown",
   "id": "64a71b93",
   "metadata": {},
   "source": [
    "The distribution of stability for each number of segments is displayed in the vertical boxplots. The thick black horizontal line in the center of the box represents the median. More stability is preferable."
   ]
  },
  {
   "cell_type": "markdown",
   "id": "decb65d3",
   "metadata": {},
   "source": [
    "### 4.2 Using Mixtures of Distributions"
   ]
  },
  {
   "cell_type": "code",
   "execution_count": 49,
   "id": "04e1ad1b",
   "metadata": {},
   "outputs": [
    {
     "ename": "AttributeError",
     "evalue": "'DataFrame' object has no attribute 'append'",
     "output_type": "error",
     "traceback": [
      "\u001b[1;31m---------------------------------------------------------------------------\u001b[0m",
      "\u001b[1;31mAttributeError\u001b[0m                            Traceback (most recent call last)",
      "\u001b[1;32m~\\AppData\\Local\\Temp\\ipykernel_11156\\813223799.py\u001b[0m in \u001b[0;36m?\u001b[1;34m()\u001b[0m\n\u001b[0;32m     12\u001b[0m     \u001b[0maic\u001b[0m \u001b[1;33m=\u001b[0m \u001b[0mlca_model\u001b[0m\u001b[1;33m.\u001b[0m\u001b[0maic\u001b[0m\u001b[1;33m(\u001b[0m\u001b[0mX\u001b[0m\u001b[1;33m)\u001b[0m\u001b[1;33m\u001b[0m\u001b[1;33m\u001b[0m\u001b[0m\n\u001b[0;32m     13\u001b[0m     \u001b[0mbic\u001b[0m \u001b[1;33m=\u001b[0m \u001b[0mlca_model\u001b[0m\u001b[1;33m.\u001b[0m\u001b[0mbic\u001b[0m\u001b[1;33m(\u001b[0m\u001b[0mX\u001b[0m\u001b[1;33m)\u001b[0m\u001b[1;33m\u001b[0m\u001b[1;33m\u001b[0m\u001b[0m\n\u001b[0;32m     14\u001b[0m \u001b[1;33m\u001b[0m\u001b[0m\n\u001b[0;32m     15\u001b[0m     \u001b[1;31m# Append the results to the DataFrame\u001b[0m\u001b[1;33m\u001b[0m\u001b[1;33m\u001b[0m\u001b[0m\n\u001b[1;32m---> 16\u001b[1;33m     \u001b[0mresults\u001b[0m \u001b[1;33m=\u001b[0m \u001b[0mresults\u001b[0m\u001b[1;33m.\u001b[0m\u001b[0mappend\u001b[0m\u001b[1;33m(\u001b[0m\u001b[1;33m{\u001b[0m\u001b[1;34m\"iter\"\u001b[0m\u001b[1;33m:\u001b[0m \u001b[0mlca_model\u001b[0m\u001b[1;33m.\u001b[0m\u001b[0mn_iter_\u001b[0m\u001b[1;33m,\u001b[0m\u001b[1;34m\"converged\"\u001b[0m\u001b[1;33m:\u001b[0m \u001b[1;32mTrue\u001b[0m\u001b[1;33m,\u001b[0m \u001b[1;34m\"k\"\u001b[0m\u001b[1;33m:\u001b[0m \u001b[0mk\u001b[0m\u001b[1;33m,\u001b[0m \u001b[1;34m\"k0\"\u001b[0m\u001b[1;33m:\u001b[0m \u001b[0mk\u001b[0m\u001b[1;33m,\u001b[0m \u001b[1;34m\"logLik\"\u001b[0m\u001b[1;33m:\u001b[0m \u001b[0mlog_likelihood\u001b[0m\u001b[1;33m,\u001b[0m  \u001b[1;34m\"AIC\"\u001b[0m\u001b[1;33m:\u001b[0m \u001b[0maic\u001b[0m\u001b[1;33m,\u001b[0m \u001b[1;34m\"BIC\"\u001b[0m\u001b[1;33m:\u001b[0m \u001b[0mbic\u001b[0m\u001b[1;33m}\u001b[0m\u001b[1;33m,\u001b[0m \u001b[0mignore_index\u001b[0m\u001b[1;33m=\u001b[0m\u001b[1;32mTrue\u001b[0m\u001b[1;33m)\u001b[0m\u001b[1;33m\u001b[0m\u001b[1;33m\u001b[0m\u001b[0m\n\u001b[0m\u001b[0;32m     17\u001b[0m \u001b[1;33m\u001b[0m\u001b[0m\n\u001b[0;32m     18\u001b[0m \u001b[0mprint\u001b[0m\u001b[1;33m(\u001b[0m\u001b[0mresults\u001b[0m\u001b[1;33m)\u001b[0m\u001b[1;33m\u001b[0m\u001b[1;33m\u001b[0m\u001b[0m\n",
      "\u001b[1;32m~\\anaconda3\\Lib\\site-packages\\pandas\\core\\generic.py\u001b[0m in \u001b[0;36m?\u001b[1;34m(self, name)\u001b[0m\n\u001b[0;32m   6295\u001b[0m             \u001b[1;32mand\u001b[0m \u001b[0mname\u001b[0m \u001b[1;32mnot\u001b[0m \u001b[1;32min\u001b[0m \u001b[0mself\u001b[0m\u001b[1;33m.\u001b[0m\u001b[0m_accessors\u001b[0m\u001b[1;33m\u001b[0m\u001b[1;33m\u001b[0m\u001b[0m\n\u001b[0;32m   6296\u001b[0m             \u001b[1;32mand\u001b[0m \u001b[0mself\u001b[0m\u001b[1;33m.\u001b[0m\u001b[0m_info_axis\u001b[0m\u001b[1;33m.\u001b[0m\u001b[0m_can_hold_identifiers_and_holds_name\u001b[0m\u001b[1;33m(\u001b[0m\u001b[0mname\u001b[0m\u001b[1;33m)\u001b[0m\u001b[1;33m\u001b[0m\u001b[1;33m\u001b[0m\u001b[0m\n\u001b[0;32m   6297\u001b[0m         \u001b[1;33m)\u001b[0m\u001b[1;33m:\u001b[0m\u001b[1;33m\u001b[0m\u001b[1;33m\u001b[0m\u001b[0m\n\u001b[0;32m   6298\u001b[0m             \u001b[1;32mreturn\u001b[0m \u001b[0mself\u001b[0m\u001b[1;33m[\u001b[0m\u001b[0mname\u001b[0m\u001b[1;33m]\u001b[0m\u001b[1;33m\u001b[0m\u001b[1;33m\u001b[0m\u001b[0m\n\u001b[1;32m-> 6299\u001b[1;33m         \u001b[1;32mreturn\u001b[0m \u001b[0mobject\u001b[0m\u001b[1;33m.\u001b[0m\u001b[0m__getattribute__\u001b[0m\u001b[1;33m(\u001b[0m\u001b[0mself\u001b[0m\u001b[1;33m,\u001b[0m \u001b[0mname\u001b[0m\u001b[1;33m)\u001b[0m\u001b[1;33m\u001b[0m\u001b[1;33m\u001b[0m\u001b[0m\n\u001b[0m",
      "\u001b[1;31mAttributeError\u001b[0m: 'DataFrame' object has no attribute 'append'"
     ]
    }
   ],
   "source": [
    "columns = [\"iter\", \"converged\", \"k\", \"k0\", \"logLik\", \"AIC\", \"BIC\"]\n",
    "results = pd.DataFrame(columns=columns)\n",
    "X = np.array(MD_x)\n",
    "\n",
    "# Perform Latent Class Analysis (LCA) using Gaussian Mixture Model\n",
    "for k in range(2, 9):\n",
    "    lca_model = GaussianMixture(n_components=k, n_init=10, random_state=1234)\n",
    "    lca_model.fit(X)\n",
    "    \n",
    "    # Get log-likelihood and other metrics\n",
    "    log_likelihood = lca_model.score(X)\n",
    "    aic = lca_model.aic(X)\n",
    "    bic = lca_model.bic(X)\n",
    "    \n",
    "    # Append the results to the DataFrame\n",
    "    results = results.append({\"iter\": lca_model.n_iter_,\"converged\": True, \"k\": k, \"k0\": k, \"logLik\": log_likelihood,  \"AIC\": aic, \"BIC\": bic}, ignore_index=True)\n",
    "\n",
    "print(results)"
   ]
  },
  {
   "cell_type": "code",
   "execution_count": null,
   "id": "e9d3fe63",
   "metadata": {},
   "outputs": [],
   "source": [
    "# Latent Class Analysis using Gaussian Mixture Model\n",
    "aicValues = []\n",
    "bicValues = []\n",
    "\n",
    "for k in range(2, 9):\n",
    "    model = GaussianMixture(n_components=k, n_init=10, random_state=1234)\n",
    "    model.fit(MD_x)\n",
    "    aicValues.append(model.aic(MD_x))\n",
    "    bicValues.append(model.bic(MD_x))\n",
    "\n",
    "# Plot information criteria\n",
    "plt.plot(range(2, 9), aicValues, label='AIC', marker='o')\n",
    "plt.plot(range(2, 9), bicValues, label='BIC', marker='o')\n",
    "plt.xlabel('Number of Components (k)')\n",
    "plt.ylabel('Value of Information Criteria')\n",
    "plt.legend()\n",
    "plt.title('Information Criteria for Mixture Model')\n",
    "plt.show()\n",
    "\n",
    "# Select the model for k=4\n",
    "selected_model = GaussianMixture(n_components=4, n_init=10, random_state=1234)\n",
    "selected_model.fit(MD_x)\n",
    "\n",
    "# Cross-tabulation of clusters from k-means and the mixture model\n",
    "kmeans_model = KMeans(n_clusters=4, n_init=10, random_state=1234)\n",
    "kmeans_labels = kmeans_model.fit_predict(MD_x)\n",
    "\n",
    "cluster_comparison = pd.crosstab(index=kmeans_labels, columns=selected_model.predict(MD_x), rownames=['kmeans'], colnames=['mixture'])\n",
    "print(cluster_comparison)"
   ]
  },
  {
   "cell_type": "code",
   "execution_count": null,
   "id": "d9f38ad6",
   "metadata": {},
   "outputs": [],
   "source": [
    "logLikelihood = selected_model.score_samples(MD_x)\n",
    "print(f'Log Likelihood: {logLikelihood.sum()}')"
   ]
  },
  {
   "cell_type": "markdown",
   "id": "7c0a5152",
   "metadata": {},
   "source": [
    "## 5. Profiling Segments"
   ]
  },
  {
   "cell_type": "code",
   "execution_count": null,
   "id": "1324c0d2",
   "metadata": {},
   "outputs": [],
   "source": [
    "# Perform hierarchical clustering\n",
    "MD_vclust = linkage(MD_x.transpose(), method='complete')\n",
    "\n",
    "# Create a dendrogram to visualize the hierarchical clustering\n",
    "plt.figure(figsize=(10, 5))\n",
    "dendrogram(MD_vclust, labels=MD_x.columns, leaf_rotation=90, leaf_font_size=8)\n",
    "plt.title('Hierarchical Clustering Dendrogram')\n",
    "plt.xlabel(\"Data Points\")\n",
    "plt.ylabel(\"Euclidean Distance\")\n",
    "plt.show()"
   ]
  },
  {
   "cell_type": "code",
   "execution_count": null,
   "id": "e6e13f6e",
   "metadata": {},
   "outputs": [],
   "source": [
    "# Standardize the data\n",
    "scaler = StandardScaler()\n",
    "MD_x_standardized = scaler.fit_transform(MD_x)\n",
    "\n",
    "# Perform PCA\n",
    "pca = PCA(n_components=2)\n",
    "MD_pca = pca.fit_transform(MD_x_standardized)\n",
    "\n",
    "# Perform clustering (KMeans with k=4 for illustration)\n",
    "kmeansModel = KMeans(n_clusters=4, random_state=1234)\n",
    "MD_k4 = kmeansModel.fit_predict(MD_x_standardized)\n",
    "\n",
    "# Visualize clustering in PCA space\n",
    "plt.figure(figsize=(8, 6))\n",
    "plt.scatter(MD_pca[:, 0], MD_pca[:, 1], c=MD_k4, cmap='viridis', alpha=0.7)\n",
    "plt.xlabel(\"Principal Component 1\")\n",
    "plt.ylabel(\"Principal Component 2\")\n",
    "plt.title(\"Clustering in PCA Space\")\n",
    "plt.show()\n",
    "\n",
    "# Project axes (MD.pca)\n",
    "print(pca.components_)"
   ]
  },
  {
   "cell_type": "markdown",
   "id": "96d07ce5",
   "metadata": {},
   "source": [
    "## 6. Describing Segments"
   ]
  },
  {
   "cell_type": "code",
   "execution_count": null,
   "id": "a0f56fdf",
   "metadata": {},
   "outputs": [],
   "source": [
    "crosstab =pd.crosstab(data['Cluster Number'],data['Like'])\n",
    "crosstab = crosstab[['-5','-4','-3','-2','-1','0','+1','+2','+3','+4','+5']]\n",
    "crosstab"
   ]
  },
  {
   "cell_type": "markdown",
   "id": "f25b8485",
   "metadata": {},
   "source": [
    "### Creating a mosaic plots"
   ]
  },
  {
   "cell_type": "code",
   "execution_count": null,
   "id": "bf70a0c0",
   "metadata": {},
   "outputs": [],
   "source": [
    "mosaic(crosstab.stack(), title='Association between Segment Membership and Loving/Hating McDonald\\'s\\n')\n",
    "plt.show()"
   ]
  },
  {
   "cell_type": "code",
   "execution_count": null,
   "id": "a9fb4e3a",
   "metadata": {},
   "outputs": [],
   "source": [
    "GenderCrossTab = pd.crosstab(data['Cluster Number'],data['Gender'])\n",
    "GenderCrossTab"
   ]
  },
  {
   "cell_type": "code",
   "execution_count": null,
   "id": "4645a837",
   "metadata": {},
   "outputs": [],
   "source": [
    "mosaic(GenderCrossTab.stack(), title='Association between Segment Membership and Loving/Hating McDonald\\'s')\n",
    "plt.show()"
   ]
  },
  {
   "cell_type": "code",
   "execution_count": null,
   "id": "53270af5",
   "metadata": {},
   "outputs": [],
   "source": [
    "plt.figure(figsize=(8, 6))\n",
    "sns.barplot(x='Cluster Number', y='Age', data=data)\n",
    "plt.xlabel('Cluster Number')\n",
    "plt.ylabel('Age')\n",
    "plt.title('Bar Plot of Age by Cluster Number')\n",
    "plt.show()"
   ]
  },
  {
   "cell_type": "markdown",
   "id": "cd803beb",
   "metadata": {},
   "source": [
    "## 7. Selecting (the) Target Segment(s)"
   ]
  },
  {
   "cell_type": "markdown",
   "id": "1724862a",
   "metadata": {},
   "source": [
    "### Calculating the mean for"
   ]
  },
  {
   "cell_type": "markdown",
   "id": "519ef11c",
   "metadata": {},
   "source": [
    "#### 1. Visit frequency"
   ]
  },
  {
   "cell_type": "code",
   "execution_count": 61,
   "id": "372a5338",
   "metadata": {},
   "outputs": [
    {
     "data": {
      "text/html": [
       "<div>\n",
       "<style scoped>\n",
       "    .dataframe tbody tr th:only-of-type {\n",
       "        vertical-align: middle;\n",
       "    }\n",
       "\n",
       "    .dataframe tbody tr th {\n",
       "        vertical-align: top;\n",
       "    }\n",
       "\n",
       "    .dataframe thead th {\n",
       "        text-align: right;\n",
       "    }\n",
       "</style>\n",
       "<table border=\"1\" class=\"dataframe\">\n",
       "  <thead>\n",
       "    <tr style=\"text-align: right;\">\n",
       "      <th></th>\n",
       "      <th>Cluster Number</th>\n",
       "      <th>VisitFrequency</th>\n",
       "    </tr>\n",
       "  </thead>\n",
       "  <tbody>\n",
       "    <tr>\n",
       "      <th>0</th>\n",
       "      <td>0</td>\n",
       "      <td>2.583333</td>\n",
       "    </tr>\n",
       "    <tr>\n",
       "      <th>1</th>\n",
       "      <td>1</td>\n",
       "      <td>2.692737</td>\n",
       "    </tr>\n",
       "    <tr>\n",
       "      <th>2</th>\n",
       "      <td>2</td>\n",
       "      <td>2.491228</td>\n",
       "    </tr>\n",
       "    <tr>\n",
       "      <th>3</th>\n",
       "      <td>3</td>\n",
       "      <td>2.674286</td>\n",
       "    </tr>\n",
       "    <tr>\n",
       "      <th>4</th>\n",
       "      <td>4</td>\n",
       "      <td>2.656250</td>\n",
       "    </tr>\n",
       "    <tr>\n",
       "      <th>5</th>\n",
       "      <td>5</td>\n",
       "      <td>2.648000</td>\n",
       "    </tr>\n",
       "    <tr>\n",
       "      <th>6</th>\n",
       "      <td>6</td>\n",
       "      <td>2.774834</td>\n",
       "    </tr>\n",
       "    <tr>\n",
       "      <th>7</th>\n",
       "      <td>7</td>\n",
       "      <td>2.578947</td>\n",
       "    </tr>\n",
       "  </tbody>\n",
       "</table>\n",
       "</div>"
      ],
      "text/plain": [
       "   Cluster Number  VisitFrequency\n",
       "0               0        2.583333\n",
       "1               1        2.692737\n",
       "2               2        2.491228\n",
       "3               3        2.674286\n",
       "4               4        2.656250\n",
       "5               5        2.648000\n",
       "6               6        2.774834\n",
       "7               7        2.578947"
      ]
     },
     "execution_count": 61,
     "metadata": {},
     "output_type": "execute_result"
    }
   ],
   "source": [
    "data['VisitFrequency'] = LabelEncoder().fit_transform(data['VisitFrequency'])\n",
    "visitFreq = data.groupby('Cluster Number')['VisitFrequency'].mean()\n",
    "visitFreq = visitFreq.to_frame().reset_index()\n",
    "visitFreq"
   ]
  },
  {
   "cell_type": "markdown",
   "id": "275457ce",
   "metadata": {},
   "source": [
    "#### 2. Like"
   ]
  },
  {
   "cell_type": "code",
   "execution_count": 64,
   "id": "9e706da7",
   "metadata": {},
   "outputs": [
    {
     "data": {
      "text/html": [
       "<div>\n",
       "<style scoped>\n",
       "    .dataframe tbody tr th:only-of-type {\n",
       "        vertical-align: middle;\n",
       "    }\n",
       "\n",
       "    .dataframe tbody tr th {\n",
       "        vertical-align: top;\n",
       "    }\n",
       "\n",
       "    .dataframe thead th {\n",
       "        text-align: right;\n",
       "    }\n",
       "</style>\n",
       "<table border=\"1\" class=\"dataframe\">\n",
       "  <thead>\n",
       "    <tr style=\"text-align: right;\">\n",
       "      <th></th>\n",
       "      <th>Cluster Number</th>\n",
       "      <th>Like</th>\n",
       "    </tr>\n",
       "  </thead>\n",
       "  <tbody>\n",
       "    <tr>\n",
       "      <th>0</th>\n",
       "      <td>0</td>\n",
       "      <td>3.380952</td>\n",
       "    </tr>\n",
       "    <tr>\n",
       "      <th>1</th>\n",
       "      <td>1</td>\n",
       "      <td>5.692737</td>\n",
       "    </tr>\n",
       "    <tr>\n",
       "      <th>2</th>\n",
       "      <td>2</td>\n",
       "      <td>2.877193</td>\n",
       "    </tr>\n",
       "    <tr>\n",
       "      <th>3</th>\n",
       "      <td>3</td>\n",
       "      <td>7.662857</td>\n",
       "    </tr>\n",
       "    <tr>\n",
       "      <th>4</th>\n",
       "      <td>4</td>\n",
       "      <td>3.281250</td>\n",
       "    </tr>\n",
       "    <tr>\n",
       "      <th>5</th>\n",
       "      <td>5</td>\n",
       "      <td>3.040000</td>\n",
       "    </tr>\n",
       "    <tr>\n",
       "      <th>6</th>\n",
       "      <td>6</td>\n",
       "      <td>7.523179</td>\n",
       "    </tr>\n",
       "    <tr>\n",
       "      <th>7</th>\n",
       "      <td>7</td>\n",
       "      <td>3.038596</td>\n",
       "    </tr>\n",
       "  </tbody>\n",
       "</table>\n",
       "</div>"
      ],
      "text/plain": [
       "   Cluster Number      Like\n",
       "0               0  3.380952\n",
       "1               1  5.692737\n",
       "2               2  2.877193\n",
       "3               3  7.662857\n",
       "4               4  3.281250\n",
       "5               5  3.040000\n",
       "6               6  7.523179\n",
       "7               7  3.038596"
      ]
     },
     "execution_count": 64,
     "metadata": {},
     "output_type": "execute_result"
    }
   ],
   "source": [
    "data['Like'] = LabelEncoder().fit_transform(data['Like'])\n",
    "like = data.groupby('Cluster Number')['Like'].mean()\n",
    "like = like.to_frame().reset_index()\n",
    "like"
   ]
  },
  {
   "cell_type": "markdown",
   "id": "5951cd96",
   "metadata": {},
   "source": [
    "#### 3. Gender"
   ]
  },
  {
   "cell_type": "code",
   "execution_count": 67,
   "id": "a8197ec9",
   "metadata": {},
   "outputs": [
    {
     "data": {
      "text/html": [
       "<div>\n",
       "<style scoped>\n",
       "    .dataframe tbody tr th:only-of-type {\n",
       "        vertical-align: middle;\n",
       "    }\n",
       "\n",
       "    .dataframe tbody tr th {\n",
       "        vertical-align: top;\n",
       "    }\n",
       "\n",
       "    .dataframe thead th {\n",
       "        text-align: right;\n",
       "    }\n",
       "</style>\n",
       "<table border=\"1\" class=\"dataframe\">\n",
       "  <thead>\n",
       "    <tr style=\"text-align: right;\">\n",
       "      <th></th>\n",
       "      <th>Cluster Number</th>\n",
       "      <th>Gender</th>\n",
       "    </tr>\n",
       "  </thead>\n",
       "  <tbody>\n",
       "    <tr>\n",
       "      <th>0</th>\n",
       "      <td>0</td>\n",
       "      <td>0.500000</td>\n",
       "    </tr>\n",
       "    <tr>\n",
       "      <th>1</th>\n",
       "      <td>1</td>\n",
       "      <td>0.452514</td>\n",
       "    </tr>\n",
       "    <tr>\n",
       "      <th>2</th>\n",
       "      <td>2</td>\n",
       "      <td>0.456140</td>\n",
       "    </tr>\n",
       "    <tr>\n",
       "      <th>3</th>\n",
       "      <td>3</td>\n",
       "      <td>0.571429</td>\n",
       "    </tr>\n",
       "    <tr>\n",
       "      <th>4</th>\n",
       "      <td>4</td>\n",
       "      <td>0.417969</td>\n",
       "    </tr>\n",
       "    <tr>\n",
       "      <th>5</th>\n",
       "      <td>5</td>\n",
       "      <td>0.528000</td>\n",
       "    </tr>\n",
       "    <tr>\n",
       "      <th>6</th>\n",
       "      <td>6</td>\n",
       "      <td>0.423841</td>\n",
       "    </tr>\n",
       "    <tr>\n",
       "      <th>7</th>\n",
       "      <td>7</td>\n",
       "      <td>0.389474</td>\n",
       "    </tr>\n",
       "  </tbody>\n",
       "</table>\n",
       "</div>"
      ],
      "text/plain": [
       "   Cluster Number    Gender\n",
       "0               0  0.500000\n",
       "1               1  0.452514\n",
       "2               2  0.456140\n",
       "3               3  0.571429\n",
       "4               4  0.417969\n",
       "5               5  0.528000\n",
       "6               6  0.423841\n",
       "7               7  0.389474"
      ]
     },
     "execution_count": 67,
     "metadata": {},
     "output_type": "execute_result"
    }
   ],
   "source": [
    "data['Gender'] = LabelEncoder().fit_transform(data['Gender'])\n",
    "gender = data.groupby('Cluster Number')['Gender'].mean()\n",
    "gender = gender.to_frame().reset_index()\n",
    "gender"
   ]
  },
  {
   "cell_type": "code",
   "execution_count": 69,
   "id": "1ef907de",
   "metadata": {},
   "outputs": [
    {
     "data": {
      "text/html": [
       "<div>\n",
       "<style scoped>\n",
       "    .dataframe tbody tr th:only-of-type {\n",
       "        vertical-align: middle;\n",
       "    }\n",
       "\n",
       "    .dataframe tbody tr th {\n",
       "        vertical-align: top;\n",
       "    }\n",
       "\n",
       "    .dataframe thead th {\n",
       "        text-align: right;\n",
       "    }\n",
       "</style>\n",
       "<table border=\"1\" class=\"dataframe\">\n",
       "  <thead>\n",
       "    <tr style=\"text-align: right;\">\n",
       "      <th></th>\n",
       "      <th>Cluster Number</th>\n",
       "      <th>Gender</th>\n",
       "      <th>Like</th>\n",
       "      <th>VisitFrequency</th>\n",
       "    </tr>\n",
       "  </thead>\n",
       "  <tbody>\n",
       "    <tr>\n",
       "      <th>0</th>\n",
       "      <td>0</td>\n",
       "      <td>0.500000</td>\n",
       "      <td>3.380952</td>\n",
       "      <td>2.583333</td>\n",
       "    </tr>\n",
       "    <tr>\n",
       "      <th>1</th>\n",
       "      <td>1</td>\n",
       "      <td>0.452514</td>\n",
       "      <td>5.692737</td>\n",
       "      <td>2.692737</td>\n",
       "    </tr>\n",
       "    <tr>\n",
       "      <th>2</th>\n",
       "      <td>2</td>\n",
       "      <td>0.456140</td>\n",
       "      <td>2.877193</td>\n",
       "      <td>2.491228</td>\n",
       "    </tr>\n",
       "    <tr>\n",
       "      <th>3</th>\n",
       "      <td>3</td>\n",
       "      <td>0.571429</td>\n",
       "      <td>7.662857</td>\n",
       "      <td>2.674286</td>\n",
       "    </tr>\n",
       "    <tr>\n",
       "      <th>4</th>\n",
       "      <td>4</td>\n",
       "      <td>0.417969</td>\n",
       "      <td>3.281250</td>\n",
       "      <td>2.656250</td>\n",
       "    </tr>\n",
       "    <tr>\n",
       "      <th>5</th>\n",
       "      <td>5</td>\n",
       "      <td>0.528000</td>\n",
       "      <td>3.040000</td>\n",
       "      <td>2.648000</td>\n",
       "    </tr>\n",
       "    <tr>\n",
       "      <th>6</th>\n",
       "      <td>6</td>\n",
       "      <td>0.423841</td>\n",
       "      <td>7.523179</td>\n",
       "      <td>2.774834</td>\n",
       "    </tr>\n",
       "    <tr>\n",
       "      <th>7</th>\n",
       "      <td>7</td>\n",
       "      <td>0.389474</td>\n",
       "      <td>3.038596</td>\n",
       "      <td>2.578947</td>\n",
       "    </tr>\n",
       "  </tbody>\n",
       "</table>\n",
       "</div>"
      ],
      "text/plain": [
       "   Cluster Number    Gender      Like  VisitFrequency\n",
       "0               0  0.500000  3.380952        2.583333\n",
       "1               1  0.452514  5.692737        2.692737\n",
       "2               2  0.456140  2.877193        2.491228\n",
       "3               3  0.571429  7.662857        2.674286\n",
       "4               4  0.417969  3.281250        2.656250\n",
       "5               5  0.528000  3.040000        2.648000\n",
       "6               6  0.423841  7.523179        2.774834\n",
       "7               7  0.389474  3.038596        2.578947"
      ]
     },
     "execution_count": 69,
     "metadata": {},
     "output_type": "execute_result"
    }
   ],
   "source": [
    "clusters = gender.merge(like, on='Cluster Number', how='left').merge(visitFreq, on='Cluster Number', how='left')\n",
    "clusters"
   ]
  },
  {
   "cell_type": "code",
   "execution_count": 71,
   "id": "04b08ddd",
   "metadata": {},
   "outputs": [
    {
     "data": {
      "image/png": "[encoded data removed]",
      "text/plain": [
       "<Figure size 870.486x750 with 12 Axes>"
      ]
     },
     "metadata": {},
     "output_type": "display_data"
    }
   ],
   "source": [
    "sns.pairplot(clusters, hue='Cluster Number', palette='coolwarm')\n",
    "plt.show()"
   ]
  },
  {
   "cell_type": "code",
   "execution_count": 72,
   "id": "f43ea30b",
   "metadata": {},
   "outputs": [
    {
     "data": {
      "image/png": "[encoded data removed]",
      "text/plain": [
       "<Figure size 900x400 with 1 Axes>"
      ]
     },
     "metadata": {},
     "output_type": "display_data"
    }
   ],
   "source": [
    "plt.figure(figsize=(9, 4))\n",
    "sns.scatterplot(x=\"VisitFrequency\", y=\"Like\", data=clusters, s=400, hue='Cluster Number', palette='coolwarm')\n",
    "plt.title(\"Segment Evaluation Plot with Color by Segment\", fontsize=15)\n",
    "plt.xlabel(\"Visit\", fontsize=12)\n",
    "plt.ylabel(\"Like\", fontsize=12)\n",
    "plt.legend(title='Segment', loc='center')\n",
    "plt.show()"
   ]
  },
  {
   "cell_type": "markdown",
   "id": "5b758f5c",
   "metadata": {},
   "source": [
    "The following attractiveness criteria will be used:\n",
    "- Liking McDonald’s \n",
    "- Visit Frequency at McDonald’s.\n"
   ]
  },
  {
   "cell_type": "code",
   "execution_count": 74,
   "id": "f33cf924",
   "metadata": {},
   "outputs": [
    {
     "data": {
      "image/png": "[encoded data removed]",
      "text/plain": [
       "<Figure size 1200x800 with 1 Axes>"
      ]
     },
     "metadata": {},
     "output_type": "display_data"
    }
   ],
   "source": [
    "data['Gender'] = data['Gender'].map({'Male': 0, 'Female': 1})\n",
    "# Extract features and target variable\n",
    "features = ['Like', 'VisitFrequency', 'Gender']\n",
    "target = 'Cluster Number'\n",
    "\n",
    "# Impute missing values\n",
    "imputer = SimpleImputer(strategy='mean')\n",
    "data_imputed = pd.DataFrame(imputer.fit_transform(clusters[['Like', 'VisitFrequency', 'Gender']]), columns=['Like', 'VisitFrequency', 'Gender'])\n",
    "\n",
    "\n",
    "# Separate features and target variable\n",
    "X = data_imputed[features]  # Use the imputed data\n",
    "y = clusters[target]\n",
    "\n",
    "# Create a decision tree\n",
    "tree = DecisionTreeClassifier()\n",
    "tree.fit(X, y)\n",
    "\n",
    "# Visualize the decision tree\n",
    "plt.figure(figsize=(12, 8))\n",
    "plot_tree(tree, feature_names=features, class_names=[str(i) for i in data[target].unique()], filled=True, rounded=True)\n",
    "plt.show()"
   ]
  },
  {
   "cell_type": "code",
   "execution_count": 75,
   "id": "8631fd86",
   "metadata": {},
   "outputs": [
    {
     "name": "stdout",
     "output_type": "stream",
     "text": [
      "Index(['Like', 'VisitFrequency', 'Gender'], dtype='object')\n",
      "8\n",
      "3\n"
     ]
    }
   ],
   "source": [
    "print(data_imputed.columns)\n",
    "print(data['Cluster Number'].nunique())\n",
    "print(len(features))"
   ]
  },
  {
   "cell_type": "markdown",
   "id": "5aafe8ba",
   "metadata": {},
   "source": [
    "Following the completion of the market segmentation analysis and all tactical and strategic marketing initiatives, the market needs to be closely watched over on a constant basis and the market's effectiveness assessed."
   ]
  }
 ],
 "metadata": {
  "kernelspec": {
   "display_name": "Python 3 (ipykernel)",
   "language": "python",
   "name": "python3"
  },
  "language_info": {
   "codemirror_mode": {
    "name": "ipython",
    "version": 3
   },
   "file_extension": ".py",
   "mimetype": "text/x-python",
   "name": "python",
   "nbconvert_exporter": "python",
   "pygments_lexer": "ipython3",
   "version": "3.12.4"
  }
 },
 "nbformat": 4,
 "nbformat_minor": 5
}
